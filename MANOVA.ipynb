{
 "cells": [
  {
   "cell_type": "markdown",
   "metadata": {},
   "source": [
    "## Importing packages:"
   ]
  },
  {
   "cell_type": "code",
   "execution_count": 1,
   "metadata": {},
   "outputs": [],
   "source": [
    "import pandas as pd\n",
    "import scipy.stats as stats\n",
    "import matplotlib.pyplot as plt\n",
    "from statsmodels.multivariate.manova import MANOVA"
   ]
  },
  {
   "cell_type": "code",
   "execution_count": 17,
   "metadata": {},
   "outputs": [],
   "source": [
    "from statsmodels.formula.api import ols\n",
    "from statsmodels.stats.anova import anova_lm"
   ]
  },
  {
   "cell_type": "code",
   "execution_count": 46,
   "metadata": {},
   "outputs": [],
   "source": [
    "from statsmodels.graphics.factorplots import interaction_plot\n",
    "import statsmodels.stats.multicomp as multi"
   ]
  },
  {
   "cell_type": "code",
   "execution_count": 3,
   "metadata": {},
   "outputs": [],
   "source": [
    "df = pd.read_excel(r'C:\\Users\\harka\\BAN 5763 homework 2\\Data_Exercise 2_BAN5763.xls',header=0)"
   ]
  },
  {
   "cell_type": "code",
   "execution_count": 4,
   "metadata": {},
   "outputs": [
    {
     "data": {
      "text/html": [
       "<div>\n",
       "<style scoped>\n",
       "    .dataframe tbody tr th:only-of-type {\n",
       "        vertical-align: middle;\n",
       "    }\n",
       "\n",
       "    .dataframe tbody tr th {\n",
       "        vertical-align: top;\n",
       "    }\n",
       "\n",
       "    .dataframe thead th {\n",
       "        text-align: right;\n",
       "    }\n",
       "</style>\n",
       "<table border=\"1\" class=\"dataframe\">\n",
       "  <thead>\n",
       "    <tr style=\"text-align: right;\">\n",
       "      <th></th>\n",
       "      <th>ID</th>\n",
       "      <th>CELL</th>\n",
       "      <th>GENDER</th>\n",
       "      <th>ADTYPE</th>\n",
       "      <th>INFORM</th>\n",
       "      <th>BELIEVE</th>\n",
       "    </tr>\n",
       "  </thead>\n",
       "  <tbody>\n",
       "    <tr>\n",
       "      <th>0</th>\n",
       "      <td>1</td>\n",
       "      <td>1</td>\n",
       "      <td>M</td>\n",
       "      <td>H</td>\n",
       "      <td>8</td>\n",
       "      <td>6</td>\n",
       "    </tr>\n",
       "    <tr>\n",
       "      <th>1</th>\n",
       "      <td>2</td>\n",
       "      <td>1</td>\n",
       "      <td>M</td>\n",
       "      <td>H</td>\n",
       "      <td>8</td>\n",
       "      <td>7</td>\n",
       "    </tr>\n",
       "    <tr>\n",
       "      <th>2</th>\n",
       "      <td>3</td>\n",
       "      <td>1</td>\n",
       "      <td>M</td>\n",
       "      <td>H</td>\n",
       "      <td>10</td>\n",
       "      <td>9</td>\n",
       "    </tr>\n",
       "    <tr>\n",
       "      <th>3</th>\n",
       "      <td>4</td>\n",
       "      <td>1</td>\n",
       "      <td>M</td>\n",
       "      <td>H</td>\n",
       "      <td>8</td>\n",
       "      <td>7</td>\n",
       "    </tr>\n",
       "    <tr>\n",
       "      <th>4</th>\n",
       "      <td>5</td>\n",
       "      <td>1</td>\n",
       "      <td>M</td>\n",
       "      <td>H</td>\n",
       "      <td>10</td>\n",
       "      <td>9</td>\n",
       "    </tr>\n",
       "  </tbody>\n",
       "</table>\n",
       "</div>"
      ],
      "text/plain": [
       "   ID  CELL GENDER ADTYPE  INFORM  BELIEVE\n",
       "0   1     1      M      H       8        6\n",
       "1   2     1      M      H       8        7\n",
       "2   3     1      M      H      10        9\n",
       "3   4     1      M      H       8        7\n",
       "4   5     1      M      H      10        9"
      ]
     },
     "execution_count": 4,
     "metadata": {},
     "output_type": "execute_result"
    }
   ],
   "source": [
    "df.head()"
   ]
  },
  {
   "cell_type": "code",
   "execution_count": 5,
   "metadata": {},
   "outputs": [
    {
     "data": {
      "text/plain": [
       "E    12\n",
       "C    12\n",
       "H    12\n",
       "Name: ADTYPE, dtype: int64"
      ]
     },
     "execution_count": 5,
     "metadata": {},
     "output_type": "execute_result"
    }
   ],
   "source": [
    "df.ADTYPE.value_counts()"
   ]
  },
  {
   "cell_type": "code",
   "execution_count": 6,
   "metadata": {},
   "outputs": [
    {
     "data": {
      "text/plain": [
       "6    6\n",
       "5    6\n",
       "4    6\n",
       "3    6\n",
       "2    6\n",
       "1    6\n",
       "Name: CELL, dtype: int64"
      ]
     },
     "execution_count": 6,
     "metadata": {},
     "output_type": "execute_result"
    }
   ],
   "source": [
    "df.CELL.value_counts()"
   ]
  },
  {
   "cell_type": "code",
   "execution_count": 51,
   "metadata": {},
   "outputs": [
    {
     "data": {
      "text/plain": [
       "F    18\n",
       "M    18\n",
       "Name: GENDER, dtype: int64"
      ]
     },
     "execution_count": 51,
     "metadata": {},
     "output_type": "execute_result"
    }
   ],
   "source": [
    "df.GENDER.value_counts()"
   ]
  },
  {
   "cell_type": "markdown",
   "metadata": {},
   "source": [
    "## Bar plot of dependent continuous variables"
   ]
  },
  {
   "cell_type": "code",
   "execution_count": 7,
   "metadata": {},
   "outputs": [
    {
     "data": {
      "text/plain": [
       "<matplotlib.axes._subplots.AxesSubplot at 0x1bae67aef98>"
      ]
     },
     "execution_count": 7,
     "metadata": {},
     "output_type": "execute_result"
    },
    {
     "data": {
      "image/png": "[encoded data removed]",
      "text/plain": [
       "<Figure size 864x432 with 1 Axes>"
      ]
     },
     "metadata": {
      "needs_background": "light"
     },
     "output_type": "display_data"
    }
   ],
   "source": [
    "df.boxplot(column='INFORM',by='GENDER',figsize=(12,6))"
   ]
  },
  {
   "cell_type": "code",
   "execution_count": 8,
   "metadata": {},
   "outputs": [
    {
     "data": {
      "text/plain": [
       "<matplotlib.axes._subplots.AxesSubplot at 0x1bae6aa3b38>"
      ]
     },
     "execution_count": 8,
     "metadata": {},
     "output_type": "execute_result"
    },
    {
     "data": {
      "image/png": "[encoded data removed]",
      "text/plain": [
       "<Figure size 864x432 with 1 Axes>"
      ]
     },
     "metadata": {
      "needs_background": "light"
     },
     "output_type": "display_data"
    }
   ],
   "source": [
    "df.boxplot(column='BELIEVE',by='GENDER',figsize=(12,6))"
   ]
  },
  {
   "cell_type": "markdown",
   "metadata": {},
   "source": [
    "## One way ANOVA test for testing effect of gender on inform & believe"
   ]
  },
  {
   "cell_type": "code",
   "execution_count": 27,
   "metadata": {},
   "outputs": [
    {
     "name": "stdout",
     "output_type": "stream",
     "text": [
      "Effect of gender on inform\n",
      "F_onewayResult(statistic=0.994942196531792, pvalue=0.32558382971298794)\n",
      "Effect of gender on believe\n",
      "F_onewayResult(statistic=10.858456821665817, pvalue=0.0023055812709425628)\n"
     ]
    }
   ],
   "source": [
    "f_gen_inf = stats.f_oneway(manova_data['INFORM'][manova_data['GENDER'] == 'M'],\n",
    "               manova_data['INFORM'][manova_data['GENDER'] == 'F'])\n",
    "f_gen_bel = stats.f_oneway(manova_data['BELIEVE'][manova_data['GENDER'] == 'M'],\n",
    "               manova_data['BELIEVE'][manova_data['GENDER'] == 'F'])\n",
    "\n",
    "print('Effect of gender on inform')\n",
    "print(f_gen_inf)\n",
    "print('Effect of gender on believe')\n",
    "print(f_gen_bel)"
   ]
  },
  {
   "cell_type": "markdown",
   "metadata": {},
   "source": [
    "## One way ANOVA for testing effect of adtype on inform & believe"
   ]
  },
  {
   "cell_type": "code",
   "execution_count": 28,
   "metadata": {},
   "outputs": [
    {
     "name": "stdout",
     "output_type": "stream",
     "text": [
      "Effect of adtype on inform\n",
      "F_onewayResult(statistic=1.1259842519685037, pvalue=0.33647619672597284)\n",
      "Effect of adtype on believe\n",
      "F_onewayResult(statistic=9.041366906474815, pvalue=0.000739531773864435)\n"
     ]
    }
   ],
   "source": [
    "f_adt_inf = stats.f_oneway(manova_data['INFORM'][manova_data['ADTYPE'] == 'C'],\n",
    "                           manova_data['INFORM'][manova_data['ADTYPE'] == 'H'],\n",
    "                           manova_data['INFORM'][manova_data['ADTYPE'] == 'E'])\n",
    "\n",
    "f_adt_bel = stats.f_oneway(manova_data['BELIEVE'][manova_data['ADTYPE'] == 'C'],\n",
    "                           manova_data['BELIEVE'][manova_data['ADTYPE'] == 'H'],\n",
    "                           manova_data['BELIEVE'][manova_data['ADTYPE'] == 'E'])\n",
    "\n",
    "print('Effect of adtype on inform')\n",
    "print(f_adt_inf)\n",
    "print('Effect of adtype on believe')\n",
    "print(f_adt_bel)"
   ]
  },
  {
   "cell_type": "markdown",
   "metadata": {},
   "source": [
    "## MANOVA on all dependent and independent variables"
   ]
  },
  {
   "cell_type": "code",
   "execution_count": 9,
   "metadata": {},
   "outputs": [
    {
     "name": "stdout",
     "output_type": "stream",
     "text": [
      "                  Multivariate linear model\n",
      "==============================================================\n",
      "                                                              \n",
      "--------------------------------------------------------------\n",
      "       Intercept         Value  Num DF  Den DF F Value  Pr > F\n",
      "--------------------------------------------------------------\n",
      "          Wilks' lambda  0.0661 2.0000 29.0000 204.8630 0.0000\n",
      "         Pillai's trace  0.9339 2.0000 29.0000 204.8630 0.0000\n",
      " Hotelling-Lawley trace 14.1285 2.0000 29.0000 204.8630 0.0000\n",
      "    Roy's greatest root 14.1285 2.0000 29.0000 204.8630 0.0000\n",
      "--------------------------------------------------------------\n",
      "                                                              \n",
      "--------------------------------------------------------------\n",
      "          GENDER         Value  Num DF  Den DF F Value  Pr > F\n",
      "--------------------------------------------------------------\n",
      "           Wilks' lambda 0.1226 2.0000 29.0000 103.7714 0.0000\n",
      "          Pillai's trace 0.8774 2.0000 29.0000 103.7714 0.0000\n",
      "  Hotelling-Lawley trace 7.1566 2.0000 29.0000 103.7714 0.0000\n",
      "     Roy's greatest root 7.1566 2.0000 29.0000 103.7714 0.0000\n",
      "--------------------------------------------------------------\n",
      "                                                              \n",
      "--------------------------------------------------------------\n",
      "           ADTYPE         Value  Num DF  Den DF F Value Pr > F\n",
      "--------------------------------------------------------------\n",
      "            Wilks' lambda 0.1687 4.0000 58.0000 20.8026 0.0000\n",
      "           Pillai's trace 0.9010 4.0000 60.0000 12.2986 0.0000\n",
      "   Hotelling-Lawley trace 4.5141 4.0000 33.7872 32.3876 0.0000\n",
      "      Roy's greatest root 4.4206 2.0000 30.0000 66.3092 0.0000\n",
      "--------------------------------------------------------------\n",
      "                                                              \n",
      "--------------------------------------------------------------\n",
      "     GENDER:ADTYPE       Value  Num DF  Den DF F Value  Pr > F\n",
      "--------------------------------------------------------------\n",
      "          Wilks' lambda  0.0739 4.0000 58.0000  38.8503 0.0000\n",
      "         Pillai's trace  1.1106 4.0000 60.0000  18.7319 0.0000\n",
      " Hotelling-Lawley trace 10.0398 4.0000 33.7872  72.0325 0.0000\n",
      "    Roy's greatest root  9.7845 2.0000 30.0000 146.7678 0.0000\n",
      "==============================================================\n",
      "\n"
     ]
    }
   ],
   "source": [
    "maov = MANOVA.from_formula('INFORM + BELIEVE ~ GENDER + ADTYPE + GENDER:ADTYPE',data = df)\n",
    "print(maov.mv_test())"
   ]
  },
  {
   "cell_type": "markdown",
   "metadata": {},
   "source": [
    "## 2-way ANOVA on INFORM"
   ]
  },
  {
   "cell_type": "code",
   "execution_count": 45,
   "metadata": {},
   "outputs": [
    {
     "name": "stdout",
     "output_type": "stream",
     "text": [
      "                 sum_sq    df         F  PR(>F)\n",
      "GENDER           9.0000   1.0    7.7885  0.0091\n",
      "ADTYPE          20.2222   2.0    8.7500  0.0010\n",
      "GENDER:ADTYPE  252.6667   2.0  109.3269  0.0000\n",
      "Residual        34.6667  30.0       NaN     NaN\n"
     ]
    }
   ],
   "source": [
    "formula = 'INFORM ~ GENDER + ADTYPE + GENDER:ADTYPE'\n",
    "model = ols(formula,df).fit()\n",
    "aov_table = anova_lm(model,typ=2)\n",
    "print(aov_table.round(4))"
   ]
  },
  {
   "cell_type": "code",
   "execution_count": null,
   "metadata": {
    "collapsed": true
   },
   "outputs": [],
   "source": []
  },
  {
   "cell_type": "code",
   "execution_count": 35,
   "metadata": {},
   "outputs": [
    {
     "data": {
      "image/png": "[encoded data removed]",
      "text/plain": [
       "<Figure size 432x288 with 1 Axes>"
      ]
     },
     "metadata": {
      "needs_background": "light"
     },
     "output_type": "display_data"
    }
   ],
   "source": [
    "int_plot_inform = interaction_plot(df.ADTYPE,df.GENDER,df.INFORM,colors=['red','blue'],markers=['D','^'],ms=10)"
   ]
  },
  {
   "cell_type": "markdown",
   "metadata": {},
   "source": [
    "## 2-way ANOVA on BELIEVE"
   ]
  },
  {
   "cell_type": "code",
   "execution_count": 44,
   "metadata": {},
   "outputs": [
    {
     "name": "stdout",
     "output_type": "stream",
     "text": [
      "                 sum_sq    df        F  PR(>F)\n",
      "GENDER          69.4444   1.0  34.1530  0.0000\n",
      "ADTYPE         101.5556   2.0  24.9727  0.0000\n",
      "GENDER:ADTYPE   54.8889   2.0  13.4973  0.0001\n",
      "Residual        61.0000  30.0      NaN     NaN\n"
     ]
    }
   ],
   "source": [
    "formula2 = 'BELIEVE ~ GENDER + ADTYPE + GENDER:ADTYPE'\n",
    "model2 = ols(formula2,df).fit()\n",
    "aov_believe = anova_lm(model2,typ=2)\n",
    "print(aov_believe.round(4))"
   ]
  },
  {
   "cell_type": "code",
   "execution_count": 38,
   "metadata": {},
   "outputs": [
    {
     "data": {
      "image/png": "[encoded data removed]",
      "text/plain": [
       "<Figure size 432x288 with 1 Axes>"
      ]
     },
     "metadata": {
      "needs_background": "light"
     },
     "output_type": "display_data"
    }
   ],
   "source": [
    "int_believe = interaction_plot(df.ADTYPE,df.GENDER,df.BELIEVE,colors=['red','blue'],markers=['D','^'],ms=10)"
   ]
  },
  {
   "cell_type": "markdown",
   "metadata": {},
   "source": [
    "## Post hoc testing"
   ]
  },
  {
   "cell_type": "code",
   "execution_count": 49,
   "metadata": {},
   "outputs": [
    {
     "name": "stdout",
     "output_type": "stream",
     "text": [
      "Multiple Comparison of Means - Tukey HSD,FWER=0.05\n",
      "=============================================\n",
      "group1 group2 meandiff  lower   upper  reject\n",
      "---------------------------------------------\n",
      "  1      2      -3.0   -4.8877 -1.1123  True \n",
      "  1      3    -6.3333   -8.221 -4.4457  True \n",
      "  1      4      -6.0   -7.8877 -4.1123  True \n",
      "  1      5    -6.3333   -8.221 -4.4457  True \n",
      "  1      6      0.0    -1.8877  1.8877 False \n",
      "  2      3    -3.3333   -5.221 -1.4457  True \n",
      "  2      4      -3.0   -4.8877 -1.1123  True \n",
      "  2      5    -3.3333   -5.221 -1.4457  True \n",
      "  2      6      3.0     1.1123  4.8877  True \n",
      "  3      4     0.3333  -1.5543  2.221  False \n",
      "  3      5      0.0    -1.8877  1.8877 False \n",
      "  3      6     6.3333   4.4457  8.221   True \n",
      "  4      5    -0.3333   -2.221  1.5543 False \n",
      "  4      6      6.0     4.1123  7.8877  True \n",
      "  5      6     6.3333   4.4457  8.221   True \n",
      "---------------------------------------------\n"
     ]
    }
   ],
   "source": [
    "mc = multi.MultiComparison(df.INFORM,groups=df.CELL)\n",
    "mc_results = mc.tukeyhsd()\n",
    "print(mc_results)"
   ]
  },
  {
   "cell_type": "code",
   "execution_count": 50,
   "metadata": {},
   "outputs": [
    {
     "name": "stdout",
     "output_type": "stream",
     "text": [
      "Multiple Comparison of Means - Tukey HSD,FWER=0.05\n",
      "=============================================\n",
      "group1 group2 meandiff  lower   upper  reject\n",
      "---------------------------------------------\n",
      "  1      2      -3.0    -5.504  -0.496  True \n",
      "  1      3    -0.1667  -2.6707  2.3373 False \n",
      "  1      4      -6.0    -8.504  -3.496  True \n",
      "  1      5    -5.3333  -7.8373 -2.8293  True \n",
      "  1      6    -0.1667  -2.6707  2.3373 False \n",
      "  2      3     2.8333   0.3293  5.3373  True \n",
      "  2      4      -3.0    -5.504  -0.496  True \n",
      "  2      5    -2.3333  -4.8373  0.1707 False \n",
      "  2      6     2.8333   0.3293  5.3373  True \n",
      "  3      4    -5.8333  -8.3373 -3.3293  True \n",
      "  3      5    -5.1667  -7.6707 -2.6627  True \n",
      "  3      6      0.0     -2.504  2.504  False \n",
      "  4      5     0.6667  -1.8373  3.1707 False \n",
      "  4      6     5.8333   3.3293  8.3373  True \n",
      "  5      6     5.1667   2.6627  7.6707  True \n",
      "---------------------------------------------\n"
     ]
    }
   ],
   "source": [
    "mc = multi.MultiComparison(df.BELIEVE,groups=df.CELL)\n",
    "mc_results = mc.tukeyhsd()\n",
    "print(mc_results)"
   ]
  }
 ],
 "metadata": {
  "kernelspec": {
   "display_name": "Python 3",
   "language": "python",
   "name": "python3"
  },
  "language_info": {
   "codemirror_mode": {
    "name": "ipython",
    "version": 3
   },
   "file_extension": ".py",
   "mimetype": "text/x-python",
   "name": "python",
   "nbconvert_exporter": "python",
   "pygments_lexer": "ipython3",
   "version": "3.7.3"
  }
 },
 "nbformat": 4,
 "nbformat_minor": 2
}
